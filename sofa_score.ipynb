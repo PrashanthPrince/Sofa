{
  "nbformat": 4,
  "nbformat_minor": 0,
  "metadata": {
    "colab": {
      "name": "sofa_score.ipynb",
      "provenance": [],
      "collapsed_sections": [],
      "authorship_tag": "ABX9TyNterd97GJo+MfxbLQa3jVB",
      "include_colab_link": true
    },
    "kernelspec": {
      "name": "python3",
      "display_name": "Python 3"
    }
  },
  "cells": [
    {
      "cell_type": "markdown",
      "metadata": {
        "id": "view-in-github",
        "colab_type": "text"
      },
      "source": [
        "<a href=\"https://colab.research.google.com/github/PrashanthPrince/Sofa/blob/main/sofa_score.ipynb\" target=\"_parent\"><img src=\"https://colab.research.google.com/assets/colab-badge.svg\" alt=\"Open In Colab\"/></a>"
      ]
    },
    {
      "cell_type": "markdown",
      "metadata": {
        "id": "pWWnfyGEeeYy"
      },
      "source": [
        "\"\"\" \n",
        "\n",
        "Author : Prashanth Prince\n",
        "\n",
        "Date : 08 Dec 2020\n",
        "\n",
        "Note: The conditions for calculating the sofa score are defined according to the details given in the following Wikipedia page:\n",
        "[Sofa Score](https://https://en.wikipedia.org/wiki/SOFA_score)\n",
        "\n",
        "\n",
        "\n",
        "\"\"\""
      ]
    },
    {
      "cell_type": "code",
      "metadata": {
        "id": "onO4ISdpNouv"
      },
      "source": [
        "import psycopg2\n",
        "import pandas as pd"
      ],
      "execution_count": 71,
      "outputs": []
    },
    {
      "cell_type": "markdown",
      "metadata": {
        "id": "sdj3iZzDQivL"
      },
      "source": [
        "The following code cell is used to connect to the PostreSQL and print out the connection details."
      ]
    },
    {
      "cell_type": "code",
      "metadata": {
        "colab": {
          "base_uri": "https://localhost:8080/"
        },
        "id": "6Jk_QdneNxIl",
        "outputId": "72f95a30-97ee-4787-9b91-8730fd0bd5d7"
      },
      "source": [
        "connection = psycopg2.connect(user = \"datascientist\",\n",
        "                                  password = \"candidate\",\n",
        "                                  host = \"3.7.155.14\",\n",
        "                                  port = \"5432\",\n",
        "                                  database = \"mimic\")\n",
        "\n",
        "cursor = connection.cursor()\n",
        "# Print PostgreSQL Connection properties\n",
        "print ( connection.get_dsn_parameters(),\"\\n\")"
      ],
      "execution_count": 72,
      "outputs": [
        {
          "output_type": "stream",
          "text": [
            "{'user': 'datascientist', 'dbname': 'mimic', 'host': '3.7.155.14', 'port': '5432', 'tty': '', 'options': '', 'sslmode': 'prefer', 'sslcompression': '0', 'krbsrvname': 'postgres', 'target_session_attrs': 'any'} \n",
            "\n"
          ],
          "name": "stdout"
        }
      ]
    },
    {
      "cell_type": "markdown",
      "metadata": {
        "id": "agrwG-lrQyDS"
      },
      "source": [
        "The following code cell is used to retrieve the cardiovascular system values from the database and store it in a pandas dataframe."
      ]
    },
    {
      "cell_type": "code",
      "metadata": {
        "id": "UhuTuq5DOUDQ"
      },
      "source": [
        "get_cardiovascular_system_values_query = '''select e.icustay_id, e.vasonum epinephrine_value, d.vasonum dopamine_value, n.vasonum _value  from mimiciii.epinephrinedurations e inner join mimiciii.dopaminedurations d on e.icustay_id=d.icustay_id inner join mimiciii.norepinephrinedurations n on d.icustay_id=n.icustay_id order by e.icustay_id limit 500;'''\n",
        "cursor.execute(get_cardiovascular_system_values_query)\n",
        "cardiovascular_system_values = cursor.fetchall()\n",
        "df_cardiovascular_system_values = pd.DataFrame(cardiovascular_system_values, columns=['icustay_id', 'epinephrine_value', 'dopamine_value', 'norepinephrine_value'])\n",
        "#df_cardiovascular_system_values.head()"
      ],
      "execution_count": 74,
      "outputs": []
    },
    {
      "cell_type": "markdown",
      "metadata": {
        "id": "GmnpqGC5RDuJ"
      },
      "source": [
        "The following code cell is used to retrieve the nervous system values from the database and store it in a pandas dataframe."
      ]
    },
    {
      "cell_type": "code",
      "metadata": {
        "id": "IC2d1qvTPyni"
      },
      "source": [
        "get_nervous_system_values_query = '''SELECT subject_id, hadm_id, valuenum FROM mimiciii.labevents WHERE valueuom='%' ORDER BY subject_id  LIMIT 500;'''\n",
        "cursor.execute(get_nervous_system_values_query)\n",
        "nervous_system_values = cursor.fetchall()"
      ],
      "execution_count": 78,
      "outputs": []
    },
    {
      "cell_type": "code",
      "metadata": {
        "id": "y_wvm9BFRjej"
      },
      "source": [
        "df_nervous_system_values = pd.DataFrame(nervous_system_values, columns=['subject_id', 'hadm_id', 'glasgow_coma_scale'])\n",
        "#df_nervous_system_values.head()"
      ],
      "execution_count": 79,
      "outputs": []
    },
    {
      "cell_type": "markdown",
      "metadata": {
        "id": "YuuYBRfASOWm"
      },
      "source": [
        "The following code cell is used to retrieve the respiratory system values from the database and store it in a pandas dataframe."
      ]
    },
    {
      "cell_type": "code",
      "metadata": {
        "id": "Gcsqbl-rSVwX"
      },
      "source": [
        "get_respiratory_system_values_query = '''SELECT subject_id, hadm_id, icustay_id, valuenum FROM mimiciii.chartevents WHERE valueuom='mmHg' ORDER BY subject_id  LIMIT 500;'''\n",
        "cursor.execute(get_cardiovascular_system_values_query)\n",
        "respiratory_system_values = cursor.fetchall()\n",
        "df_respiratory_system_values = pd.DataFrame(respiratory_system_values, columns=['subject_id', 'hadm_id', 'icustay_id', 'pao2'])\n",
        "#df_respiratory_system_values.head()"
      ],
      "execution_count": 82,
      "outputs": []
    },
    {
      "cell_type": "markdown",
      "metadata": {
        "id": "a47cf_KJS_B_"
      },
      "source": [
        "The following code cell is used to retrieve the liver, kidneys and coagulation values from the database and store it in a pandas dataframe. These are measured in bilirubin, creatinine and platelets values respectively."
      ]
    },
    {
      "cell_type": "code",
      "metadata": {
        "id": "uBjwAwUDTiVm"
      },
      "source": [
        "get_lkc_system_values_query = '''SELECT subject_id, hadm_id, icustay_id, (bilirubin_min+bilirubin_max)/2.0 as bilirubin, (creatinine_min+creatinine_max)/2.0 as creatinine, (platelet_min+platelet_max)/2.0 as platelet  FROM mimiciii.labsfirstday ORDER BY subject_id  LIMIT 500;'''\n",
        "cursor.execute(get_lkc_system_values_query)\n",
        "lkc_system_values = cursor.fetchall()"
      ],
      "execution_count": 84,
      "outputs": []
    },
    {
      "cell_type": "code",
      "metadata": {
        "id": "pViUOWTxUVPW"
      },
      "source": [
        "df_lkc_system_values = pd.DataFrame(lkc_system_values, columns=['subject_id', 'hadm_id', 'icustay_id', 'bilirubin', 'creatinine', 'platelet'])\n",
        "#df_lkc_system_values.head()"
      ],
      "execution_count": 85,
      "outputs": []
    },
    {
      "cell_type": "markdown",
      "metadata": {
        "id": "OAoSUix-U5Sf"
      },
      "source": [
        "Joining lkc and nervous systems "
      ]
    },
    {
      "cell_type": "code",
      "metadata": {
        "id": "L_EsKclqU3vq"
      },
      "source": [
        "df_lkc_nervous = pd.merge(df_lkc_system_values, df_nervous_system_values, on='subject_id')\n",
        "\n",
        "#df_lkc_nervous"
      ],
      "execution_count": 86,
      "outputs": []
    },
    {
      "cell_type": "markdown",
      "metadata": {
        "id": "79OmMAX-WAHb"
      },
      "source": [
        "Joining previous dataframe with cardiovascular system values."
      ]
    },
    {
      "cell_type": "code",
      "metadata": {
        "id": "6pSBDxXsV_dT"
      },
      "source": [
        "df_lkc_nervous_cardio = pd.merge(df_lkc_nervous, df_cardiovascular_system_values, on='icustay_id', how='outer')\n",
        "\n",
        "#df_lkc_nervous_cardio"
      ],
      "execution_count": 88,
      "outputs": []
    },
    {
      "cell_type": "code",
      "metadata": {
        "colab": {
          "base_uri": "https://localhost:8080/"
        },
        "id": "6yg917u9Xknl",
        "outputId": "dcf9bbd2-9df2-4345-e5ea-3d13476b4181"
      },
      "source": [
        "df_lkc_nervous_cardio.isna().sum()"
      ],
      "execution_count": 91,
      "outputs": [
        {
          "output_type": "execute_result",
          "data": {
            "text/plain": [
              "subject_id              500\n",
              "hadm_id_x               500\n",
              "icustay_id                0\n",
              "bilirubin               538\n",
              "creatinine              538\n",
              "platelet                500\n",
              "hadm_id_y               839\n",
              "glasgow_coma_scale      500\n",
              "epinephrine_value       500\n",
              "dopamine_value          500\n",
              "norepinephrine_value    500\n",
              "dtype: int64"
            ]
          },
          "metadata": {
            "tags": []
          },
          "execution_count": 91
        }
      ]
    },
    {
      "cell_type": "markdown",
      "metadata": {
        "id": "W4qBBCKwbw0q"
      },
      "source": [
        "Handling Missing Values. Filling forward and Backward since there are repeated entries."
      ]
    },
    {
      "cell_type": "code",
      "metadata": {
        "id": "iZYOpsxGccCw"
      },
      "source": [
        "df_lkc_nervous_cardio['epinephrine_value'].fillna(method='bfill',inplace=True)\n",
        "df_lkc_nervous_cardio['dopamine_value'].fillna(method='bfill',inplace=True)\n",
        "df_lkc_nervous_cardio['norepinephrine_value'].fillna(method='bfill',inplace=True)\n",
        "\n",
        "df_lkc_nervous_cardio['bilirubin'].fillna(method='bfill',inplace=True)\n",
        "df_lkc_nervous_cardio['creatinine'].fillna(method='bfill',inplace=True)\n",
        "\n",
        "df_lkc_nervous_cardio['bilirubin'].fillna(method='ffill',inplace=True)\n",
        "df_lkc_nervous_cardio['creatinine'].fillna(method='ffill',inplace=True)\n",
        "\n",
        "df_lkc_nervous_cardio['subject_id'].fillna(method='ffill',inplace=True)\n",
        "\n",
        "df_lkc_nervous_cardio['platelet'].fillna(method='ffill',inplace=True)\n",
        "\n",
        "df_lkc_nervous_cardio['glasgow_coma_scale'].fillna(method='ffill',inplace=True)"
      ],
      "execution_count": 92,
      "outputs": []
    },
    {
      "cell_type": "code",
      "metadata": {
        "colab": {
          "base_uri": "https://localhost:8080/"
        },
        "id": "CTcyejASduzR",
        "outputId": "9190df9d-db77-4940-9b19-80ea030ce7b8"
      },
      "source": [
        "df_lkc_nervous_cardio['subject_id'].isna().sum()"
      ],
      "execution_count": 95,
      "outputs": [
        {
          "output_type": "execute_result",
          "data": {
            "text/plain": [
              "0"
            ]
          },
          "metadata": {
            "tags": []
          },
          "execution_count": 95
        }
      ]
    },
    {
      "cell_type": "code",
      "metadata": {
        "colab": {
          "base_uri": "https://localhost:8080/"
        },
        "id": "4rFeXpUueBjH",
        "outputId": "7671028d-5709-458c-bbd4-d212111ab64c"
      },
      "source": [
        "df_lkc_nervous_cardio['icustay_id'].isna().sum()"
      ],
      "execution_count": 96,
      "outputs": [
        {
          "output_type": "execute_result",
          "data": {
            "text/plain": [
              "0"
            ]
          },
          "metadata": {
            "tags": []
          },
          "execution_count": 96
        }
      ]
    },
    {
      "cell_type": "code",
      "metadata": {
        "id": "Wjwik0mCeEls"
      },
      "source": [
        "connection.close()\n",
        "cursor.close()"
      ],
      "execution_count": 97,
      "outputs": []
    },
    {
      "cell_type": "code",
      "metadata": {
        "id": "XnrjVIWweQ1X"
      },
      "source": [
        "#df_lkc_nervous_cardio"
      ],
      "execution_count": 111,
      "outputs": []
    },
    {
      "cell_type": "markdown",
      "metadata": {
        "id": "KHopl-eJeIxa"
      },
      "source": [
        "Defining Functions for each health system and assigning sofa values according to the measured quantity.\n",
        "\n",
        "Note: The conditions are defined according to the details given in the following Wikipedia page:\n",
        "[Sofa Score](https://https://en.wikipedia.org/wiki/SOFA_score)"
      ]
    },
    {
      "cell_type": "code",
      "metadata": {
        "id": "Pf3cRrJa1bSa"
      },
      "source": [
        "def kidney(row):\n",
        "  if row['creatinine']<1.2:\n",
        "    val = 0\n",
        "  elif row['creatinine']>=1.2 and row['creatinine']<=1.9:\n",
        "    val = 1\n",
        "  elif row['creatinine']>=2.0 and row['creatinine']<=3.4:\n",
        "    val = 2\n",
        "  elif row['creatinine']>=3.5 and row['creatinine']<=4.9:\n",
        "    val = 3\n",
        "  else:\n",
        "    val = 4\n",
        "  return val\n",
        "\n",
        "def coagulation(row):\n",
        "  if row['platelet']>=150:\n",
        "    val = 0\n",
        "  elif row['platelet']<150:\n",
        "    val = 1\n",
        "  elif row['platelet']<100:\n",
        "    val = 2\n",
        "  elif row['platelet']<50:\n",
        "    val = 3\n",
        "  else:\n",
        "    val = 4\n",
        "  return val\n",
        "\n",
        "def liver(row):\n",
        "  if row['bilirubin']<1.2:\n",
        "    val = 0\n",
        "  elif row['bilirubin']>=1.2 and row['bilirubin']<=1.9:\n",
        "    val = 1\n",
        "  elif row['bilirubin']>=2.0 and row['bilirubin']<=5.9:\n",
        "    val = 2\n",
        "  elif row['bilirubin']>=6 and row['bilirubin']<=11.9:\n",
        "    val = 3\n",
        "  else:\n",
        "    val = 4\n",
        "  return val\n",
        "\n",
        "def cardiovascular(row):\n",
        "  if row['dopamine_value']<=5:\n",
        "    val = 2\n",
        "  elif row['dopamine_value']>5 or row['epinephrine_value']<=0.1 or row['norepinephrine_value']<=0.1:\n",
        "    val = 3\n",
        "  elif row['dopamine_value']>15 or row['epinephrine_value']>0.1 or row['norepinephrine_value']>0.1:\n",
        "    val = 4\n",
        "  return val\n",
        "\n",
        "def nervous(row):\n",
        "  if row['glasgow_coma_scale']==15:\n",
        "    val = 0\n",
        "  elif row['glasgow_coma_scale']>=13 and row['glasgow_coma_scale']<=14:\n",
        "    val = 1\n",
        "  elif row['glasgow_coma_scale']>=10 and row['glasgow_coma_scale']<=12:\n",
        "    val = 2\n",
        "  elif row['glasgow_coma_scale']>=6 and row['glasgow_coma_scale']<=9:\n",
        "    val = 3\n",
        "  else:\n",
        "    val = 4\n",
        "  return val\n"
      ],
      "execution_count": 99,
      "outputs": []
    },
    {
      "cell_type": "code",
      "metadata": {
        "id": "f1g_sr-S0iTd"
      },
      "source": [
        "def sofa(row):\n",
        "  val = kidney(row)\n",
        "  val += coagulation(row)\n",
        "  val += liver(row)\n",
        "  val += cardiovascular(row)\n",
        "  val += nervous(row)\n",
        "  return val"
      ],
      "execution_count": 100,
      "outputs": []
    },
    {
      "cell_type": "code",
      "metadata": {
        "id": "pxIqoECGzPTH"
      },
      "source": [
        "df_lkc_nervous_cardio['sofa'] = df_lkc_nervous_cardio.apply(sofa,axis=1)"
      ],
      "execution_count": 101,
      "outputs": []
    },
    {
      "cell_type": "code",
      "metadata": {
        "id": "spHwkNuu0KLn"
      },
      "source": [
        "#df_lkc_nervous_cardio"
      ],
      "execution_count": 108,
      "outputs": []
    },
    {
      "cell_type": "markdown",
      "metadata": {
        "id": "xWUN-NJbg1DB"
      },
      "source": [
        "Sofa score is calculated for the first 1000 patients sorted according to their subject_id. The same method / algorithm mentioned in this code can be used to calculate the sofa score of all the patients. "
      ]
    },
    {
      "cell_type": "code",
      "metadata": {
        "colab": {
          "base_uri": "https://localhost:8080/"
        },
        "id": "gjFui0zVgY8j",
        "outputId": "ef0a8f75-5965-4406-bd01-1c8d29047b2e"
      },
      "source": [
        "df_lkc_nervous_cardio['sofa']"
      ],
      "execution_count": 110,
      "outputs": [
        {
          "output_type": "execute_result",
          "data": {
            "text/plain": [
              "0      8\n",
              "1      8\n",
              "2      8\n",
              "3      8\n",
              "4      8\n",
              "      ..\n",
              "995    7\n",
              "996    7\n",
              "997    7\n",
              "998    7\n",
              "999    7\n",
              "Name: sofa, Length: 1000, dtype: int64"
            ]
          },
          "metadata": {
            "tags": []
          },
          "execution_count": 110
        }
      ]
    }
  ]
}